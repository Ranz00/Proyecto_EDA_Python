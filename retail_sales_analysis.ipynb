# Proyecto 1 - Análisis Exploratorio de Ventas
# Autor: Héctor Anzoátegui

import pandas as pd
import matplotlib.pyplot as plt
import seaborn as sns

# 1. Cargar dataset de ejemplo (puedes reemplazar por uno real de Kaggle)
data = {
    "Fecha": pd.date_range(start="2024-01-01", periods=12, freq="M"),
    "Ventas": [1200, 1500, 1800, 1600, 2000, 2200, 2100, 2500, 2700, 3000, 2800, 3200],
    "Categoria": ["Electrónica","Electrónica","Electrodomésticos","Electrodomésticos",
                  "Ropa","Ropa","Ropa","Electrónica","Electrodomésticos","Ropa","Electrónica","Electrodomésticos"]
}
df = pd.DataFrame(data)

# 2. Vista general
print(df.head())

# 3. Estadísticas descriptivas
print(df.describe())

# 4. Visualización de ventas mensuales
plt.figure(figsize=(10,5))
sns.lineplot(x="Fecha", y="Ventas", data=df, marker="o")
plt.title("Ventas mensuales")
plt.show()

# 5. Ventas por categoría
plt.figure(figsize=(6,4))
sns.barplot(x="Categoria", y="Ventas", data=df, estimator=sum)
plt.title("Ventas por categoría")
plt.show()
